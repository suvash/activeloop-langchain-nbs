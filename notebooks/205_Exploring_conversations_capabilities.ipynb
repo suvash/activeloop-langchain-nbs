{
 "cells": [
  {
   "cell_type": "code",
   "execution_count": 2,
   "metadata": {},
   "outputs": [
    {
     "name": "stderr",
     "output_type": "stream",
     "text": [
      "/Users/suvash/Projects/activeloop-langchain-vector-db/.direnv/python-3.11.3/lib/python3.11/site-packages/deeplake/util/check_latest_version.py:32: UserWarning: A newer version of deeplake (3.6.25) is available. It's recommended that you update to the latest version using `pip install -U deeplake`.\n",
      "  warnings.warn(\n"
     ]
    }
   ],
   "source": [
    "from langchain.chat_models import ChatOpenAI\n",
    "from langchain.schema import (\n",
    "    SystemMessage,\n",
    "    HumanMessage,\n",
    "    AIMessage\n",
    ")\n",
    "\n",
    "messages = [\n",
    "    SystemMessage(content=\"You are a helpful assistant.\"),\n",
    "    HumanMessage(content=\"What is the capital of France?\"),\n",
    "    AIMessage(content=\"The capital of France is Paris.\")\n",
    "]"
   ]
  },
  {
   "cell_type": "code",
   "execution_count": 3,
   "metadata": {},
   "outputs": [],
   "source": [
    "prompt = HumanMessage(\n",
    "    content=\"I'd like to know more about the city you just mentioned.\"\n",
    ")\n",
    "# add to messages\n",
    "messages.append(prompt)\n",
    "\n",
    "llm = ChatOpenAI(model_name=\"gpt-4\")\n",
    "\n",
    "response = llm(messages)"
   ]
  },
  {
   "cell_type": "code",
   "execution_count": 4,
   "metadata": {},
   "outputs": [
    {
     "name": "stdout",
     "output_type": "stream",
     "text": [
      "content='Sure, I\\'d be happy to tell you more about Paris. It\\'s one of the most iconic cities globally, known for its history, culture, fashion, and gastronomy. Paris is located in the northern-central part of France.\\n\\nThe city is renowned for its beautiful architecture and cultural landmarks such as the Eiffel Tower, Notre-Dame Cathedral, The Louvre Museum, Montmartre, and Champs-Elysées. The Seine River runs through the city, and its banks are a UNESCO World Heritage site.\\n\\nParis is also known as the \"City of Light\" because it was one of the first cities in the world to have street lighting. It\\'s a global hub for art, fashion, and culture. The city is home to many world-class museums, art galleries, and theaters.\\n\\nThe cuisine in Paris is also world-famous, with a multitude of cafes, bakeries, and restaurants serving everything from traditional French baguettes and croissants to escargot and foie gras.\\n\\nMoreover, Paris is the economic and commercial heart of France, hosting the headquarters of numerous international companies and organizations. It\\'s also known for hosting international events like Paris Fashion Week and the French Open Grand Slam tennis tournament.' additional_kwargs={} example=False\n"
     ]
    }
   ],
   "source": [
    "print(response)"
   ]
  },
  {
   "cell_type": "code",
   "execution_count": 5,
   "metadata": {},
   "outputs": [],
   "source": [
    "messages.append(response)"
   ]
  },
  {
   "cell_type": "code",
   "execution_count": 6,
   "metadata": {},
   "outputs": [],
   "source": [
    "prompt = HumanMessage(\n",
    "    content=\"I'd like to know more about the another city similar to the city above in Asia.\"\n",
    ")\n",
    "# add to messages\n",
    "messages.append(prompt)\n",
    "\n",
    "llm = ChatOpenAI(model_name=\"gpt-4\")\n",
    "\n",
    "response = llm(messages)"
   ]
  },
  {
   "cell_type": "code",
   "execution_count": 7,
   "metadata": {},
   "outputs": [
    {
     "name": "stdout",
     "output_type": "stream",
     "text": [
      "content=\"Certainly, a city in Asia that is often compared to Paris in terms of its cultural richness and historical significance is Tokyo, Japan.\\n\\nTokyo is the capital city of Japan and is located on the eastern coast of Honshu, the largest of Japan’s main islands. This city is one of the 47 prefectures of Japan and consists of 23 city wards, various suburban cities, towns, and villages. \\n\\nTokyo is known for its vibrant energy, cutting-edge technology juxtaposed with deep-rooted tradition. It is home to many world-class museums, historic temples, and gardens. Some of its most iconic landmarks include the Tokyo Tower, Meiji Shrine, and the Imperial Palace. The districts of Asakusa and Odaiba are well-known for their bustling markets and stunning views of the city's skyline.\\n\\nLike Paris, Tokyo is also a significant global economic hub. It's headquarters to numerous international businesses and a major global finance center. It also hosts the largest fish market in the world, the Tsukiji Market, and is famous for its unique and diverse culinary scene. From its world-renowned sushi to its street food, Tokyo is a food lover's paradise.\\n\\nTokyo also has its own fashion scene that rivals Paris with neighborhoods like Harajuku and Ginza, which are globally recognized for their fashion boutiques, luxury retail, and trend-setting street style.\\n\\nTokyo is also known for hosting international events. It was scheduled to host the 2020 Summer Olympics (postponed to 2021 due to the COVID-19 pandemic).\\n\\nIn terms of public transportation, Tokyo's train system is extensive and efficient, with the Tokyo Metro serving as the primary mode of transportation within the city, much like the Paris Metro in Paris. \\n\\nDespite the differences in culture and geography, Paris and Tokyo share similarities as vibrant, influential cities rich in history, culture, and gastronomy.\" additional_kwargs={} example=False\n"
     ]
    }
   ],
   "source": [
    "print(response)"
   ]
  },
  {
   "cell_type": "code",
   "execution_count": null,
   "metadata": {},
   "outputs": [],
   "source": []
  }
 ],
 "metadata": {
  "kernelspec": {
   "display_name": "python-3.11.3",
   "language": "python",
   "name": "python3"
  },
  "language_info": {
   "codemirror_mode": {
    "name": "ipython",
    "version": 3
   },
   "file_extension": ".py",
   "mimetype": "text/x-python",
   "name": "python",
   "nbconvert_exporter": "python",
   "pygments_lexer": "ipython3",
   "version": "3.11.3"
  },
  "orig_nbformat": 4
 },
 "nbformat": 4,
 "nbformat_minor": 2
}
